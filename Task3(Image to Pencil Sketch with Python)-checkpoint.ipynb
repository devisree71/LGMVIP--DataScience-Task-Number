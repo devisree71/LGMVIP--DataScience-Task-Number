{
 "cells": [
  {
   "cell_type": "markdown",
   "id": "f2d6ab80",
   "metadata": {},
   "source": [
    "# Image to Pencil Sketch with Python"
   ]
  },
  {
   "cell_type": "markdown",
   "id": "03cd031a",
   "metadata": {},
   "source": [
    "## Import Libraries"
   ]
  },
  {
   "cell_type": "code",
   "execution_count": 25,
   "id": "129eb4f6",
   "metadata": {},
   "outputs": [],
   "source": [
    "import cv2"
   ]
  },
  {
   "cell_type": "markdown",
   "id": "9a4b8c77",
   "metadata": {},
   "source": [
    "## Reading Image"
   ]
  },
  {
   "cell_type": "code",
   "execution_count": 16,
   "id": "2842749b",
   "metadata": {},
   "outputs": [],
   "source": [
    "img=cv2.imread(\"dog.webp\")"
   ]
  },
  {
   "cell_type": "markdown",
   "id": "ef1b940f",
   "metadata": {},
   "source": [
    "## Displaying the Image"
   ]
  },
  {
   "cell_type": "code",
   "execution_count": 26,
   "id": "dc31c46d",
   "metadata": {},
   "outputs": [
    {
     "data": {
      "text/plain": [
       "-1"
      ]
     },
     "execution_count": 26,
     "metadata": {},
     "output_type": "execute_result"
    }
   ],
   "source": [
    "cv2.imshow(\"Dog\",img)\n",
    "cv2.waitKey(0)"
   ]
  },
  {
   "cell_type": "markdown",
   "id": "a72ce131",
   "metadata": {},
   "source": [
    "## Converting the original image to grayscale"
   ]
  },
  {
   "cell_type": "code",
   "execution_count": 28,
   "id": "0cd2495a",
   "metadata": {},
   "outputs": [
    {
     "data": {
      "text/plain": [
       "-1"
      ]
     },
     "execution_count": 28,
     "metadata": {},
     "output_type": "execute_result"
    }
   ],
   "source": [
    "gray_image=cv2.cvtColor(img,cv2.COLOR_BGR2GRAY)\n",
    "cv2.imshow(\"NewDog\",gray_image)\n",
    "cv2.waitKey(0)"
   ]
  },
  {
   "cell_type": "markdown",
   "id": "8baf4c6b",
   "metadata": {},
   "source": [
    "## Invert the new grayscale Image"
   ]
  },
  {
   "cell_type": "code",
   "execution_count": 29,
   "id": "fa7f626c",
   "metadata": {},
   "outputs": [
    {
     "data": {
      "text/plain": [
       "-1"
      ]
     },
     "execution_count": 29,
     "metadata": {},
     "output_type": "execute_result"
    }
   ],
   "source": [
    "inverted_image=255-gray_image\n",
    "cv2.imshow(\"Inverted\",inverted_image)\n",
    "cv2.waitKey()"
   ]
  },
  {
   "cell_type": "markdown",
   "id": "f71edbf2",
   "metadata": {},
   "source": [
    "## Blur the image by using the Gaussian Function"
   ]
  },
  {
   "cell_type": "code",
   "execution_count": 22,
   "id": "ed1cd87d",
   "metadata": {},
   "outputs": [],
   "source": [
    "blurred=cv2.GaussianBlur(inverted_image,(21,21),0)"
   ]
  },
  {
   "cell_type": "markdown",
   "id": "95a9e8ab",
   "metadata": {},
   "source": [
    "## Invert the Blurred image,to convert the image into a pencil sketch"
   ]
  },
  {
   "cell_type": "code",
   "execution_count": 30,
   "id": "045bb080",
   "metadata": {},
   "outputs": [],
   "source": [
    "inverted_blurred=255-blurred\n",
    "pencil_sketch=cv2.divide(gray_image,inverted_blurred,scale=256.0)\n",
    "cv2.imshow(\"Sketch\",pencil_sketch)\n",
    "cv2.waitKey(0)\n",
    "cv2.destroyAllWindows()"
   ]
  },
  {
   "cell_type": "markdown",
   "id": "402fdeaa",
   "metadata": {},
   "source": [
    "## Display Original Image and Pencil Sketch"
   ]
  },
  {
   "cell_type": "code",
   "execution_count": 31,
   "id": "49dab693",
   "metadata": {},
   "outputs": [
    {
     "data": {
      "text/plain": [
       "-1"
      ]
     },
     "execution_count": 31,
     "metadata": {},
     "output_type": "execute_result"
    }
   ],
   "source": [
    "cv2.imshow(\"original image\",img)\n",
    "cv2.imshow(\"Pencil SKetch\",pencil_sketch)\n",
    "cv2.waitKey(0)"
   ]
  }
 ],
 "metadata": {
  "kernelspec": {
   "display_name": "Python 3 (ipykernel)",
   "language": "python",
   "name": "python3"
  },
  "language_info": {
   "codemirror_mode": {
    "name": "ipython",
    "version": 3
   },
   "file_extension": ".py",
   "mimetype": "text/x-python",
   "name": "python",
   "nbconvert_exporter": "python",
   "pygments_lexer": "ipython3",
   "version": "3.9.12"
  }
 },
 "nbformat": 4,
 "nbformat_minor": 5
}
