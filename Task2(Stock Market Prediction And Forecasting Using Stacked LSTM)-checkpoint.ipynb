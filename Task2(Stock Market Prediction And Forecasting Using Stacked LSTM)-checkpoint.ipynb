{
 "cells": [
  {
   "cell_type": "markdown",
   "id": "6d04841d",
   "metadata": {},
   "source": [
    "# Task 2 Stock Market Prediction And Forecasting Using Stacked LSTM"
   ]
  },
  {
   "cell_type": "code",
   "execution_count": 3,
   "id": "03f1e1f4",
   "metadata": {},
   "outputs": [],
   "source": [
    "import numpy as np\n",
    "import pandas as pd\n",
    "import seaborn as sns\n",
    "import math\n",
    "import matplotlib.pyplot as plt\n",
    "import datetime\n",
    "import tensorflow\n",
    "from tensorflow.keras.models import Sequential\n",
    "from tensorflow.keras.layers import Dense,LSTM\n",
    "from sklearn.metrics import mean_squared_error\n",
    "from sklearn.preprocessing import MinMaxScaler"
   ]
  },
  {
   "cell_type": "code",
   "execution_count": 5,
   "id": "b2def6ec",
   "metadata": {},
   "outputs": [],
   "source": [
    "url='https://raw.githubusercontent.com/mwitiderrick/stockprice/master/NSE-TATAGLOBAL.csv'\n",
    "data=pd.read_csv(url)"
   ]
  },
  {
   "cell_type": "code",
   "execution_count": 6,
   "id": "99ac30dc",
   "metadata": {},
   "outputs": [
    {
     "data": {
      "text/html": [
       "<div>\n",
       "<style scoped>\n",
       "    .dataframe tbody tr th:only-of-type {\n",
       "        vertical-align: middle;\n",
       "    }\n",
       "\n",
       "    .dataframe tbody tr th {\n",
       "        vertical-align: top;\n",
       "    }\n",
       "\n",
       "    .dataframe thead th {\n",
       "        text-align: right;\n",
       "    }\n",
       "</style>\n",
       "<table border=\"1\" class=\"dataframe\">\n",
       "  <thead>\n",
       "    <tr style=\"text-align: right;\">\n",
       "      <th></th>\n",
       "      <th>Date</th>\n",
       "      <th>Open</th>\n",
       "      <th>High</th>\n",
       "      <th>Low</th>\n",
       "      <th>Last</th>\n",
       "      <th>Close</th>\n",
       "      <th>Total Trade Quantity</th>\n",
       "      <th>Turnover (Lacs)</th>\n",
       "    </tr>\n",
       "  </thead>\n",
       "  <tbody>\n",
       "    <tr>\n",
       "      <th>0</th>\n",
       "      <td>2018-09-28</td>\n",
       "      <td>234.05</td>\n",
       "      <td>235.95</td>\n",
       "      <td>230.20</td>\n",
       "      <td>233.50</td>\n",
       "      <td>233.75</td>\n",
       "      <td>3069914</td>\n",
       "      <td>7162.35</td>\n",
       "    </tr>\n",
       "    <tr>\n",
       "      <th>1</th>\n",
       "      <td>2018-09-27</td>\n",
       "      <td>234.55</td>\n",
       "      <td>236.80</td>\n",
       "      <td>231.10</td>\n",
       "      <td>233.80</td>\n",
       "      <td>233.25</td>\n",
       "      <td>5082859</td>\n",
       "      <td>11859.95</td>\n",
       "    </tr>\n",
       "    <tr>\n",
       "      <th>2</th>\n",
       "      <td>2018-09-26</td>\n",
       "      <td>240.00</td>\n",
       "      <td>240.00</td>\n",
       "      <td>232.50</td>\n",
       "      <td>235.00</td>\n",
       "      <td>234.25</td>\n",
       "      <td>2240909</td>\n",
       "      <td>5248.60</td>\n",
       "    </tr>\n",
       "    <tr>\n",
       "      <th>3</th>\n",
       "      <td>2018-09-25</td>\n",
       "      <td>233.30</td>\n",
       "      <td>236.75</td>\n",
       "      <td>232.00</td>\n",
       "      <td>236.25</td>\n",
       "      <td>236.10</td>\n",
       "      <td>2349368</td>\n",
       "      <td>5503.90</td>\n",
       "    </tr>\n",
       "    <tr>\n",
       "      <th>4</th>\n",
       "      <td>2018-09-24</td>\n",
       "      <td>233.55</td>\n",
       "      <td>239.20</td>\n",
       "      <td>230.75</td>\n",
       "      <td>234.00</td>\n",
       "      <td>233.30</td>\n",
       "      <td>3423509</td>\n",
       "      <td>7999.55</td>\n",
       "    </tr>\n",
       "    <tr>\n",
       "      <th>...</th>\n",
       "      <td>...</td>\n",
       "      <td>...</td>\n",
       "      <td>...</td>\n",
       "      <td>...</td>\n",
       "      <td>...</td>\n",
       "      <td>...</td>\n",
       "      <td>...</td>\n",
       "      <td>...</td>\n",
       "    </tr>\n",
       "    <tr>\n",
       "      <th>2030</th>\n",
       "      <td>2010-07-27</td>\n",
       "      <td>117.60</td>\n",
       "      <td>119.50</td>\n",
       "      <td>112.00</td>\n",
       "      <td>118.80</td>\n",
       "      <td>118.65</td>\n",
       "      <td>586100</td>\n",
       "      <td>694.98</td>\n",
       "    </tr>\n",
       "    <tr>\n",
       "      <th>2031</th>\n",
       "      <td>2010-07-26</td>\n",
       "      <td>120.10</td>\n",
       "      <td>121.00</td>\n",
       "      <td>117.10</td>\n",
       "      <td>117.10</td>\n",
       "      <td>117.60</td>\n",
       "      <td>658440</td>\n",
       "      <td>780.01</td>\n",
       "    </tr>\n",
       "    <tr>\n",
       "      <th>2032</th>\n",
       "      <td>2010-07-23</td>\n",
       "      <td>121.80</td>\n",
       "      <td>121.95</td>\n",
       "      <td>120.25</td>\n",
       "      <td>120.35</td>\n",
       "      <td>120.65</td>\n",
       "      <td>281312</td>\n",
       "      <td>340.31</td>\n",
       "    </tr>\n",
       "    <tr>\n",
       "      <th>2033</th>\n",
       "      <td>2010-07-22</td>\n",
       "      <td>120.30</td>\n",
       "      <td>122.00</td>\n",
       "      <td>120.25</td>\n",
       "      <td>120.75</td>\n",
       "      <td>120.90</td>\n",
       "      <td>293312</td>\n",
       "      <td>355.17</td>\n",
       "    </tr>\n",
       "    <tr>\n",
       "      <th>2034</th>\n",
       "      <td>2010-07-21</td>\n",
       "      <td>122.10</td>\n",
       "      <td>123.00</td>\n",
       "      <td>121.05</td>\n",
       "      <td>121.10</td>\n",
       "      <td>121.55</td>\n",
       "      <td>658666</td>\n",
       "      <td>803.56</td>\n",
       "    </tr>\n",
       "  </tbody>\n",
       "</table>\n",
       "<p>2035 rows × 8 columns</p>\n",
       "</div>"
      ],
      "text/plain": [
       "            Date    Open    High     Low    Last   Close  \\\n",
       "0     2018-09-28  234.05  235.95  230.20  233.50  233.75   \n",
       "1     2018-09-27  234.55  236.80  231.10  233.80  233.25   \n",
       "2     2018-09-26  240.00  240.00  232.50  235.00  234.25   \n",
       "3     2018-09-25  233.30  236.75  232.00  236.25  236.10   \n",
       "4     2018-09-24  233.55  239.20  230.75  234.00  233.30   \n",
       "...          ...     ...     ...     ...     ...     ...   \n",
       "2030  2010-07-27  117.60  119.50  112.00  118.80  118.65   \n",
       "2031  2010-07-26  120.10  121.00  117.10  117.10  117.60   \n",
       "2032  2010-07-23  121.80  121.95  120.25  120.35  120.65   \n",
       "2033  2010-07-22  120.30  122.00  120.25  120.75  120.90   \n",
       "2034  2010-07-21  122.10  123.00  121.05  121.10  121.55   \n",
       "\n",
       "      Total Trade Quantity  Turnover (Lacs)  \n",
       "0                  3069914          7162.35  \n",
       "1                  5082859         11859.95  \n",
       "2                  2240909          5248.60  \n",
       "3                  2349368          5503.90  \n",
       "4                  3423509          7999.55  \n",
       "...                    ...              ...  \n",
       "2030                586100           694.98  \n",
       "2031                658440           780.01  \n",
       "2032                281312           340.31  \n",
       "2033                293312           355.17  \n",
       "2034                658666           803.56  \n",
       "\n",
       "[2035 rows x 8 columns]"
      ]
     },
     "execution_count": 6,
     "metadata": {},
     "output_type": "execute_result"
    }
   ],
   "source": [
    "data"
   ]
  },
  {
   "cell_type": "code",
   "execution_count": 7,
   "id": "9de01f00",
   "metadata": {},
   "outputs": [
    {
     "data": {
      "text/html": [
       "<div>\n",
       "<style scoped>\n",
       "    .dataframe tbody tr th:only-of-type {\n",
       "        vertical-align: middle;\n",
       "    }\n",
       "\n",
       "    .dataframe tbody tr th {\n",
       "        vertical-align: top;\n",
       "    }\n",
       "\n",
       "    .dataframe thead th {\n",
       "        text-align: right;\n",
       "    }\n",
       "</style>\n",
       "<table border=\"1\" class=\"dataframe\">\n",
       "  <thead>\n",
       "    <tr style=\"text-align: right;\">\n",
       "      <th></th>\n",
       "      <th>Date</th>\n",
       "      <th>Open</th>\n",
       "      <th>High</th>\n",
       "      <th>Low</th>\n",
       "      <th>Last</th>\n",
       "      <th>Close</th>\n",
       "      <th>Total Trade Quantity</th>\n",
       "      <th>Turnover (Lacs)</th>\n",
       "    </tr>\n",
       "  </thead>\n",
       "  <tbody>\n",
       "    <tr>\n",
       "      <th>0</th>\n",
       "      <td>2018-09-28</td>\n",
       "      <td>234.05</td>\n",
       "      <td>235.95</td>\n",
       "      <td>230.20</td>\n",
       "      <td>233.50</td>\n",
       "      <td>233.75</td>\n",
       "      <td>3069914</td>\n",
       "      <td>7162.35</td>\n",
       "    </tr>\n",
       "    <tr>\n",
       "      <th>1</th>\n",
       "      <td>2018-09-27</td>\n",
       "      <td>234.55</td>\n",
       "      <td>236.80</td>\n",
       "      <td>231.10</td>\n",
       "      <td>233.80</td>\n",
       "      <td>233.25</td>\n",
       "      <td>5082859</td>\n",
       "      <td>11859.95</td>\n",
       "    </tr>\n",
       "    <tr>\n",
       "      <th>2</th>\n",
       "      <td>2018-09-26</td>\n",
       "      <td>240.00</td>\n",
       "      <td>240.00</td>\n",
       "      <td>232.50</td>\n",
       "      <td>235.00</td>\n",
       "      <td>234.25</td>\n",
       "      <td>2240909</td>\n",
       "      <td>5248.60</td>\n",
       "    </tr>\n",
       "    <tr>\n",
       "      <th>3</th>\n",
       "      <td>2018-09-25</td>\n",
       "      <td>233.30</td>\n",
       "      <td>236.75</td>\n",
       "      <td>232.00</td>\n",
       "      <td>236.25</td>\n",
       "      <td>236.10</td>\n",
       "      <td>2349368</td>\n",
       "      <td>5503.90</td>\n",
       "    </tr>\n",
       "    <tr>\n",
       "      <th>4</th>\n",
       "      <td>2018-09-24</td>\n",
       "      <td>233.55</td>\n",
       "      <td>239.20</td>\n",
       "      <td>230.75</td>\n",
       "      <td>234.00</td>\n",
       "      <td>233.30</td>\n",
       "      <td>3423509</td>\n",
       "      <td>7999.55</td>\n",
       "    </tr>\n",
       "  </tbody>\n",
       "</table>\n",
       "</div>"
      ],
      "text/plain": [
       "         Date    Open    High     Low    Last   Close  Total Trade Quantity  \\\n",
       "0  2018-09-28  234.05  235.95  230.20  233.50  233.75               3069914   \n",
       "1  2018-09-27  234.55  236.80  231.10  233.80  233.25               5082859   \n",
       "2  2018-09-26  240.00  240.00  232.50  235.00  234.25               2240909   \n",
       "3  2018-09-25  233.30  236.75  232.00  236.25  236.10               2349368   \n",
       "4  2018-09-24  233.55  239.20  230.75  234.00  233.30               3423509   \n",
       "\n",
       "   Turnover (Lacs)  \n",
       "0          7162.35  \n",
       "1         11859.95  \n",
       "2          5248.60  \n",
       "3          5503.90  \n",
       "4          7999.55  "
      ]
     },
     "execution_count": 7,
     "metadata": {},
     "output_type": "execute_result"
    }
   ],
   "source": [
    "data.head()"
   ]
  },
  {
   "cell_type": "code",
   "execution_count": 8,
   "id": "11544470",
   "metadata": {},
   "outputs": [
    {
     "data": {
      "text/html": [
       "<div>\n",
       "<style scoped>\n",
       "    .dataframe tbody tr th:only-of-type {\n",
       "        vertical-align: middle;\n",
       "    }\n",
       "\n",
       "    .dataframe tbody tr th {\n",
       "        vertical-align: top;\n",
       "    }\n",
       "\n",
       "    .dataframe thead th {\n",
       "        text-align: right;\n",
       "    }\n",
       "</style>\n",
       "<table border=\"1\" class=\"dataframe\">\n",
       "  <thead>\n",
       "    <tr style=\"text-align: right;\">\n",
       "      <th></th>\n",
       "      <th>Date</th>\n",
       "      <th>Open</th>\n",
       "      <th>High</th>\n",
       "      <th>Low</th>\n",
       "      <th>Last</th>\n",
       "      <th>Close</th>\n",
       "      <th>Total Trade Quantity</th>\n",
       "      <th>Turnover (Lacs)</th>\n",
       "    </tr>\n",
       "  </thead>\n",
       "  <tbody>\n",
       "    <tr>\n",
       "      <th>2030</th>\n",
       "      <td>2010-07-27</td>\n",
       "      <td>117.6</td>\n",
       "      <td>119.50</td>\n",
       "      <td>112.00</td>\n",
       "      <td>118.80</td>\n",
       "      <td>118.65</td>\n",
       "      <td>586100</td>\n",
       "      <td>694.98</td>\n",
       "    </tr>\n",
       "    <tr>\n",
       "      <th>2031</th>\n",
       "      <td>2010-07-26</td>\n",
       "      <td>120.1</td>\n",
       "      <td>121.00</td>\n",
       "      <td>117.10</td>\n",
       "      <td>117.10</td>\n",
       "      <td>117.60</td>\n",
       "      <td>658440</td>\n",
       "      <td>780.01</td>\n",
       "    </tr>\n",
       "    <tr>\n",
       "      <th>2032</th>\n",
       "      <td>2010-07-23</td>\n",
       "      <td>121.8</td>\n",
       "      <td>121.95</td>\n",
       "      <td>120.25</td>\n",
       "      <td>120.35</td>\n",
       "      <td>120.65</td>\n",
       "      <td>281312</td>\n",
       "      <td>340.31</td>\n",
       "    </tr>\n",
       "    <tr>\n",
       "      <th>2033</th>\n",
       "      <td>2010-07-22</td>\n",
       "      <td>120.3</td>\n",
       "      <td>122.00</td>\n",
       "      <td>120.25</td>\n",
       "      <td>120.75</td>\n",
       "      <td>120.90</td>\n",
       "      <td>293312</td>\n",
       "      <td>355.17</td>\n",
       "    </tr>\n",
       "    <tr>\n",
       "      <th>2034</th>\n",
       "      <td>2010-07-21</td>\n",
       "      <td>122.1</td>\n",
       "      <td>123.00</td>\n",
       "      <td>121.05</td>\n",
       "      <td>121.10</td>\n",
       "      <td>121.55</td>\n",
       "      <td>658666</td>\n",
       "      <td>803.56</td>\n",
       "    </tr>\n",
       "  </tbody>\n",
       "</table>\n",
       "</div>"
      ],
      "text/plain": [
       "            Date   Open    High     Low    Last   Close  Total Trade Quantity  \\\n",
       "2030  2010-07-27  117.6  119.50  112.00  118.80  118.65                586100   \n",
       "2031  2010-07-26  120.1  121.00  117.10  117.10  117.60                658440   \n",
       "2032  2010-07-23  121.8  121.95  120.25  120.35  120.65                281312   \n",
       "2033  2010-07-22  120.3  122.00  120.25  120.75  120.90                293312   \n",
       "2034  2010-07-21  122.1  123.00  121.05  121.10  121.55                658666   \n",
       "\n",
       "      Turnover (Lacs)  \n",
       "2030           694.98  \n",
       "2031           780.01  \n",
       "2032           340.31  \n",
       "2033           355.17  \n",
       "2034           803.56  "
      ]
     },
     "execution_count": 8,
     "metadata": {},
     "output_type": "execute_result"
    }
   ],
   "source": [
    "data.tail()"
   ]
  },
  {
   "cell_type": "code",
   "execution_count": 9,
   "id": "fae298f2",
   "metadata": {},
   "outputs": [
    {
     "data": {
      "text/html": [
       "<div>\n",
       "<style scoped>\n",
       "    .dataframe tbody tr th:only-of-type {\n",
       "        vertical-align: middle;\n",
       "    }\n",
       "\n",
       "    .dataframe tbody tr th {\n",
       "        vertical-align: top;\n",
       "    }\n",
       "\n",
       "    .dataframe thead th {\n",
       "        text-align: right;\n",
       "    }\n",
       "</style>\n",
       "<table border=\"1\" class=\"dataframe\">\n",
       "  <thead>\n",
       "    <tr style=\"text-align: right;\">\n",
       "      <th></th>\n",
       "      <th>Open</th>\n",
       "      <th>High</th>\n",
       "      <th>Low</th>\n",
       "      <th>Last</th>\n",
       "      <th>Close</th>\n",
       "      <th>Total Trade Quantity</th>\n",
       "      <th>Turnover (Lacs)</th>\n",
       "    </tr>\n",
       "  </thead>\n",
       "  <tbody>\n",
       "    <tr>\n",
       "      <th>count</th>\n",
       "      <td>2035.000000</td>\n",
       "      <td>2035.000000</td>\n",
       "      <td>2035.000000</td>\n",
       "      <td>2035.000000</td>\n",
       "      <td>2035.00000</td>\n",
       "      <td>2.035000e+03</td>\n",
       "      <td>2035.000000</td>\n",
       "    </tr>\n",
       "    <tr>\n",
       "      <th>mean</th>\n",
       "      <td>149.713735</td>\n",
       "      <td>151.992826</td>\n",
       "      <td>147.293931</td>\n",
       "      <td>149.474251</td>\n",
       "      <td>149.45027</td>\n",
       "      <td>2.335681e+06</td>\n",
       "      <td>3899.980565</td>\n",
       "    </tr>\n",
       "    <tr>\n",
       "      <th>std</th>\n",
       "      <td>48.664509</td>\n",
       "      <td>49.413109</td>\n",
       "      <td>47.931958</td>\n",
       "      <td>48.732570</td>\n",
       "      <td>48.71204</td>\n",
       "      <td>2.091778e+06</td>\n",
       "      <td>4570.767877</td>\n",
       "    </tr>\n",
       "    <tr>\n",
       "      <th>min</th>\n",
       "      <td>81.100000</td>\n",
       "      <td>82.800000</td>\n",
       "      <td>80.000000</td>\n",
       "      <td>81.000000</td>\n",
       "      <td>80.95000</td>\n",
       "      <td>3.961000e+04</td>\n",
       "      <td>37.040000</td>\n",
       "    </tr>\n",
       "    <tr>\n",
       "      <th>25%</th>\n",
       "      <td>120.025000</td>\n",
       "      <td>122.100000</td>\n",
       "      <td>118.300000</td>\n",
       "      <td>120.075000</td>\n",
       "      <td>120.05000</td>\n",
       "      <td>1.146444e+06</td>\n",
       "      <td>1427.460000</td>\n",
       "    </tr>\n",
       "    <tr>\n",
       "      <th>50%</th>\n",
       "      <td>141.500000</td>\n",
       "      <td>143.400000</td>\n",
       "      <td>139.600000</td>\n",
       "      <td>141.100000</td>\n",
       "      <td>141.25000</td>\n",
       "      <td>1.783456e+06</td>\n",
       "      <td>2512.030000</td>\n",
       "    </tr>\n",
       "    <tr>\n",
       "      <th>75%</th>\n",
       "      <td>157.175000</td>\n",
       "      <td>159.400000</td>\n",
       "      <td>155.150000</td>\n",
       "      <td>156.925000</td>\n",
       "      <td>156.90000</td>\n",
       "      <td>2.813594e+06</td>\n",
       "      <td>4539.015000</td>\n",
       "    </tr>\n",
       "    <tr>\n",
       "      <th>max</th>\n",
       "      <td>327.700000</td>\n",
       "      <td>328.750000</td>\n",
       "      <td>321.650000</td>\n",
       "      <td>325.950000</td>\n",
       "      <td>325.75000</td>\n",
       "      <td>2.919102e+07</td>\n",
       "      <td>55755.080000</td>\n",
       "    </tr>\n",
       "  </tbody>\n",
       "</table>\n",
       "</div>"
      ],
      "text/plain": [
       "              Open         High          Low         Last       Close  \\\n",
       "count  2035.000000  2035.000000  2035.000000  2035.000000  2035.00000   \n",
       "mean    149.713735   151.992826   147.293931   149.474251   149.45027   \n",
       "std      48.664509    49.413109    47.931958    48.732570    48.71204   \n",
       "min      81.100000    82.800000    80.000000    81.000000    80.95000   \n",
       "25%     120.025000   122.100000   118.300000   120.075000   120.05000   \n",
       "50%     141.500000   143.400000   139.600000   141.100000   141.25000   \n",
       "75%     157.175000   159.400000   155.150000   156.925000   156.90000   \n",
       "max     327.700000   328.750000   321.650000   325.950000   325.75000   \n",
       "\n",
       "       Total Trade Quantity  Turnover (Lacs)  \n",
       "count          2.035000e+03      2035.000000  \n",
       "mean           2.335681e+06      3899.980565  \n",
       "std            2.091778e+06      4570.767877  \n",
       "min            3.961000e+04        37.040000  \n",
       "25%            1.146444e+06      1427.460000  \n",
       "50%            1.783456e+06      2512.030000  \n",
       "75%            2.813594e+06      4539.015000  \n",
       "max            2.919102e+07     55755.080000  "
      ]
     },
     "execution_count": 9,
     "metadata": {},
     "output_type": "execute_result"
    }
   ],
   "source": [
    "data.describe()"
   ]
  },
  {
   "cell_type": "code",
   "execution_count": 10,
   "id": "739ce57d",
   "metadata": {},
   "outputs": [
    {
     "name": "stdout",
     "output_type": "stream",
     "text": [
      "<class 'pandas.core.frame.DataFrame'>\n",
      "RangeIndex: 2035 entries, 0 to 2034\n",
      "Data columns (total 8 columns):\n",
      " #   Column                Non-Null Count  Dtype  \n",
      "---  ------                --------------  -----  \n",
      " 0   Date                  2035 non-null   object \n",
      " 1   Open                  2035 non-null   float64\n",
      " 2   High                  2035 non-null   float64\n",
      " 3   Low                   2035 non-null   float64\n",
      " 4   Last                  2035 non-null   float64\n",
      " 5   Close                 2035 non-null   float64\n",
      " 6   Total Trade Quantity  2035 non-null   int64  \n",
      " 7   Turnover (Lacs)       2035 non-null   float64\n",
      "dtypes: float64(6), int64(1), object(1)\n",
      "memory usage: 127.3+ KB\n"
     ]
    }
   ],
   "source": [
    "data.info()"
   ]
  },
  {
   "cell_type": "code",
   "execution_count": 11,
   "id": "aea33621",
   "metadata": {},
   "outputs": [
    {
     "data": {
      "text/plain": [
       "(2035, 8)"
      ]
     },
     "execution_count": 11,
     "metadata": {},
     "output_type": "execute_result"
    }
   ],
   "source": [
    "data.shape"
   ]
  },
  {
   "cell_type": "code",
   "execution_count": 12,
   "id": "50cfa4bb",
   "metadata": {},
   "outputs": [
    {
     "data": {
      "text/plain": [
       "Date                     object\n",
       "Open                    float64\n",
       "High                    float64\n",
       "Low                     float64\n",
       "Last                    float64\n",
       "Close                   float64\n",
       "Total Trade Quantity      int64\n",
       "Turnover (Lacs)         float64\n",
       "dtype: object"
      ]
     },
     "execution_count": 12,
     "metadata": {},
     "output_type": "execute_result"
    }
   ],
   "source": [
    "data.dtypes"
   ]
  },
  {
   "cell_type": "code",
   "execution_count": 13,
   "id": "a143efdc",
   "metadata": {},
   "outputs": [
    {
     "data": {
      "text/plain": [
       "2018-09-28    1\n",
       "2013-04-10    1\n",
       "2013-03-20    1\n",
       "2013-03-21    1\n",
       "2013-03-22    1\n",
       "             ..\n",
       "2016-01-11    1\n",
       "2016-01-12    1\n",
       "2016-01-13    1\n",
       "2016-01-14    1\n",
       "2010-07-21    1\n",
       "Name: Date, Length: 2035, dtype: int64"
      ]
     },
     "execution_count": 13,
     "metadata": {},
     "output_type": "execute_result"
    }
   ],
   "source": [
    "data['Date'].value_counts()"
   ]
  },
  {
   "cell_type": "code",
   "execution_count": 14,
   "id": "6218e8c6",
   "metadata": {
    "scrolled": true
   },
   "outputs": [
    {
     "data": {
      "text/plain": [
       "0       230.20\n",
       "1       231.10\n",
       "2       232.50\n",
       "3       232.00\n",
       "4       230.75\n",
       "         ...  \n",
       "2030    112.00\n",
       "2031    117.10\n",
       "2032    120.25\n",
       "2033    120.25\n",
       "2034    121.05\n",
       "Name: Low, Length: 2035, dtype: float64"
      ]
     },
     "execution_count": 14,
     "metadata": {},
     "output_type": "execute_result"
    }
   ],
   "source": [
    "sample=data.reset_index()['Low']\n",
    "sample"
   ]
  },
  {
   "cell_type": "code",
   "execution_count": 15,
   "id": "39c507a5",
   "metadata": {},
   "outputs": [
    {
     "data": {
      "text/plain": [
       "<AxesSubplot:>"
      ]
     },
     "execution_count": 15,
     "metadata": {},
     "output_type": "execute_result"
    },
    {
     "data": {
      "text/plain": [
       "<Figure size 576x576 with 0 Axes>"
      ]
     },
     "metadata": {},
     "output_type": "display_data"
    },
    {
     "data": {
      "image/png": "[encoded data removed]",
      "text/plain": [
       "<Figure size 432x288 with 1 Axes>"
      ]
     },
     "metadata": {
      "needs_background": "light"
     },
     "output_type": "display_data"
    }
   ],
   "source": [
    "plt.figure(figsize=(8,8))\n",
    "data.plot()"
   ]
  },
  {
   "cell_type": "code",
   "execution_count": 17,
   "id": "d3275e41",
   "metadata": {},
   "outputs": [
    {
     "data": {
      "image/png": "[encoded data removed]",
      "text/plain": [
       "<Figure size 720x432 with 1 Axes>"
      ]
     },
     "metadata": {
      "needs_background": "light"
     },
     "output_type": "display_data"
    }
   ],
   "source": [
    "plt.figure(figsize=(10,6))\n",
    "plt.plot(data['Date'], data['Close'],color='r')\n",
    "plt.rcParams['figure.figsize'] = [15, 7]\n",
    "plt.title('Stocks_Closing_Price')\n",
    "plt.xlabel('Date')\n",
    "plt.ylabel('Close')\n",
    "plt.show()"
   ]
  },
  {
   "cell_type": "code",
   "execution_count": 18,
   "id": "f1004935",
   "metadata": {},
   "outputs": [
    {
     "data": {
      "image/png": "[encoded data removed]",
      "text/plain": [
       "<Figure size 1080x504 with 1 Axes>"
      ]
     },
     "metadata": {
      "needs_background": "light"
     },
     "output_type": "display_data"
    }
   ],
   "source": [
    "plt.plot(data['Date'], data['Low'],color='g')\n",
    "plt.rcParams['figure.figsize'] = [15, 7]\n",
    "plt.show()"
   ]
  },
  {
   "cell_type": "code",
   "execution_count": 19,
   "id": "ebe51737",
   "metadata": {},
   "outputs": [
    {
     "data": {
      "text/plain": [
       "<AxesSubplot:>"
      ]
     },
     "execution_count": 19,
     "metadata": {},
     "output_type": "execute_result"
    },
    {
     "data": {
      "image/png": "[encoded data removed]",
      "text/plain": [
       "<Figure size 864x432 with 2 Axes>"
      ]
     },
     "metadata": {
      "needs_background": "light"
     },
     "output_type": "display_data"
    }
   ],
   "source": [
    "plt.figure(figsize=(12,6))\n",
    "sns.heatmap(data.corr(),annot=True,cmap='RdPu')"
   ]
  },
  {
   "cell_type": "code",
   "execution_count": 20,
   "id": "ded36ea4",
   "metadata": {},
   "outputs": [
    {
     "name": "stdout",
     "output_type": "stream",
     "text": [
      "[[0.62156011]\n",
      " [0.6252845 ]\n",
      " [0.63107801]\n",
      " ...\n",
      " [0.16656321]\n",
      " [0.16656321]\n",
      " [0.16987378]]\n"
     ]
    }
   ],
   "source": [
    "scaler = MinMaxScaler(feature_range=(0, 1))\n",
    "training = scaler.fit_transform(np.array(sample).reshape(-1, 1))\n",
    "print(training)"
   ]
  },
  {
   "cell_type": "code",
   "execution_count": 21,
   "id": "c74a9947",
   "metadata": {},
   "outputs": [
    {
     "data": {
      "text/plain": [
       "[<matplotlib.lines.Line2D at 0x2782bb6e9d0>]"
      ]
     },
     "execution_count": 21,
     "metadata": {},
     "output_type": "execute_result"
    },
    {
     "data": {
      "image/png": "[encoded data removed]",
      "text/plain": [
       "<Figure size 1080x504 with 1 Axes>"
      ]
     },
     "metadata": {
      "needs_background": "light"
     },
     "output_type": "display_data"
    }
   ],
   "source": [
    "plt.plot(sample)"
   ]
  },
  {
   "cell_type": "code",
   "execution_count": 22,
   "id": "0f1c3398",
   "metadata": {},
   "outputs": [
    {
     "name": "stdout",
     "output_type": "stream",
     "text": [
      "1628 407\n"
     ]
    }
   ],
   "source": [
    "train_percentage = 0.8\n",
    "train_size = int(len(training) * train_percentage)\n",
    "test_size = int(len(training)) - train_size\n",
    "training_data = training[0:train_size,:]\n",
    "testing_data = training[train_size:len(data),:]\n",
    "print(train_size,test_size)"
   ]
  },
  {
   "cell_type": "code",
   "execution_count": 23,
   "id": "7399e626",
   "metadata": {},
   "outputs": [
    {
     "data": {
      "text/plain": [
       "(1628, 407)"
      ]
     },
     "execution_count": 23,
     "metadata": {},
     "output_type": "execute_result"
    }
   ],
   "source": [
    "train_size,test_size"
   ]
  },
  {
   "cell_type": "code",
   "execution_count": 24,
   "id": "5d98241b",
   "metadata": {},
   "outputs": [
    {
     "data": {
      "text/plain": [
       "array([[0.62156011],\n",
       "       [0.6252845 ],\n",
       "       [0.63107801],\n",
       "       ...,\n",
       "       [0.13304366],\n",
       "       [0.13780261],\n",
       "       [0.14483758]])"
      ]
     },
     "execution_count": 24,
     "metadata": {},
     "output_type": "execute_result"
    }
   ],
   "source": [
    "training_data"
   ]
  },
  {
   "cell_type": "code",
   "execution_count": 25,
   "id": "6bfcf666",
   "metadata": {},
   "outputs": [
    {
     "data": {
      "text/plain": [
       "array([[0.1568384 ],\n",
       "       [0.16490792],\n",
       "       [0.16759777],\n",
       "       [0.17318436],\n",
       "       [0.1396648 ],\n",
       "       [0.13242293],\n",
       "       [0.15932133],\n",
       "       [0.14938961],\n",
       "       [0.14276847],\n",
       "       [0.16263191],\n",
       "       [0.15807987],\n",
       "       [0.15414856],\n",
       "       [0.16283882],\n",
       "       [0.16325264],\n",
       "       [0.14938961],\n",
       "       [0.15642458],\n",
       "       [0.15311401],\n",
       "       [0.13656114],\n",
       "       [0.13242293],\n",
       "       [0.141527  ],\n",
       "       [0.11649079],\n",
       "       [0.11338713],\n",
       "       [0.11587006],\n",
       "       [0.08586799],\n",
       "       [0.06848748],\n",
       "       [0.05793503],\n",
       "       [0.04883095],\n",
       "       [0.05027933],\n",
       "       [0.04614111],\n",
       "       [0.04758949],\n",
       "       [0.05524519],\n",
       "       [0.05027933],\n",
       "       [0.06807366],\n",
       "       [0.0248293 ],\n",
       "       [0.05317608],\n",
       "       [0.05172771],\n",
       "       [0.05152079],\n",
       "       [0.05276226],\n",
       "       [0.05172771],\n",
       "       [0.05400372],\n",
       "       [0.04696876],\n",
       "       [0.05172771],\n",
       "       [0.05917649],\n",
       "       [0.04800331],\n",
       "       [0.03765777],\n",
       "       [0.03972688],\n",
       "       [0.02772605],\n",
       "       [0.02855369],\n",
       "       [0.03103662],\n",
       "       [0.03269191],\n",
       "       [0.03414029],\n",
       "       [0.02400166],\n",
       "       [0.02276019],\n",
       "       [0.01862197],\n",
       "       [0.01572522],\n",
       "       [0.02069108],\n",
       "       [0.02420857],\n",
       "       [0.02689841],\n",
       "       [0.0248293 ],\n",
       "       [0.02896752],\n",
       "       [0.03207118],\n",
       "       [0.0343472 ],\n",
       "       [0.0401407 ],\n",
       "       [0.04138216],\n",
       "       [0.03310573],\n",
       "       [0.0190358 ],\n",
       "       [0.00537968],\n",
       "       [0.01200083],\n",
       "       [0.00931099],\n",
       "       [0.00455204],\n",
       "       [0.        ],\n",
       "       [0.00124146],\n",
       "       [0.00641424],\n",
       "       [0.00413822],\n",
       "       [0.00496586],\n",
       "       [0.00496586],\n",
       "       [0.0134492 ],\n",
       "       [0.02234637],\n",
       "       [0.02855369],\n",
       "       [0.02917443],\n",
       "       [0.03558866],\n",
       "       [0.04345127],\n",
       "       [0.04427892],\n",
       "       [0.04055452],\n",
       "       [0.04365818],\n",
       "       [0.04510656],\n",
       "       [0.04676185],\n",
       "       [0.03724395],\n",
       "       [0.02896752],\n",
       "       [0.01944962],\n",
       "       [0.01965653],\n",
       "       [0.01800124],\n",
       "       [0.02069108],\n",
       "       [0.02317401],\n",
       "       [0.02793296],\n",
       "       [0.03041589],\n",
       "       [0.02503621],\n",
       "       [0.02689841],\n",
       "       [0.0248293 ],\n",
       "       [0.02524312],\n",
       "       [0.01241465],\n",
       "       [0.00869025],\n",
       "       [0.00206911],\n",
       "       [0.00993172],\n",
       "       [0.01489758],\n",
       "       [0.02007035],\n",
       "       [0.02172564],\n",
       "       [0.02379474],\n",
       "       [0.02938134],\n",
       "       [0.01841506],\n",
       "       [0.01282847],\n",
       "       [0.02317401],\n",
       "       [0.04800331],\n",
       "       [0.04427892],\n",
       "       [0.04179599],\n",
       "       [0.04158908],\n",
       "       [0.04945169],\n",
       "       [0.04241672],\n",
       "       [0.04117525],\n",
       "       [0.04241672],\n",
       "       [0.05296917],\n",
       "       [0.05876267],\n",
       "       [0.05814194],\n",
       "       [0.0459342 ],\n",
       "       [0.04614111],\n",
       "       [0.04924478],\n",
       "       [0.05317608],\n",
       "       [0.04179599],\n",
       "       [0.03600248],\n",
       "       [0.03745086],\n",
       "       [0.04345127],\n",
       "       [0.04448583],\n",
       "       [0.03227809],\n",
       "       [0.02338092],\n",
       "       [0.03165736],\n",
       "       [0.05917649],\n",
       "       [0.07159114],\n",
       "       [0.0897993 ],\n",
       "       [0.09062694],\n",
       "       [0.08773019],\n",
       "       [0.08690255],\n",
       "       [0.08752328],\n",
       "       [0.09124767],\n",
       "       [0.11607697],\n",
       "       [0.09352369],\n",
       "       [0.09786882],\n",
       "       [0.10945582],\n",
       "       [0.10552452],\n",
       "       [0.09145458],\n",
       "       [0.09973102],\n",
       "       [0.1013863 ],\n",
       "       [0.09228223],\n",
       "       [0.08297124],\n",
       "       [0.07552245],\n",
       "       [0.08545417],\n",
       "       [0.09269605],\n",
       "       [0.08441962],\n",
       "       [0.08297124],\n",
       "       [0.08297124],\n",
       "       [0.08566108],\n",
       "       [0.07552245],\n",
       "       [0.08069522],\n",
       "       [0.07593627],\n",
       "       [0.09476516],\n",
       "       [0.09414442],\n",
       "       [0.09228223],\n",
       "       [0.07386716],\n",
       "       [0.06517691],\n",
       "       [0.05048624],\n",
       "       [0.05255535],\n",
       "       [0.04655493],\n",
       "       [0.04552038],\n",
       "       [0.04676185],\n",
       "       [0.03807159],\n",
       "       [0.04055452],\n",
       "       [0.04862404],\n",
       "       [0.04365818],\n",
       "       [0.05441755],\n",
       "       [0.06848748],\n",
       "       [0.07552245],\n",
       "       [0.08007449],\n",
       "       [0.06207325],\n",
       "       [0.06228016],\n",
       "       [0.06703911],\n",
       "       [0.06331471],\n",
       "       [0.05379681],\n",
       "       [0.05007242],\n",
       "       [0.05462446],\n",
       "       [0.04138216],\n",
       "       [0.03082971],\n",
       "       [0.02648459],\n",
       "       [0.02648459],\n",
       "       [0.02379474],\n",
       "       [0.02089799],\n",
       "       [0.02813987],\n",
       "       [0.04758949],\n",
       "       [0.06228016],\n",
       "       [0.0668322 ],\n",
       "       [0.06538382],\n",
       "       [0.06559073],\n",
       "       [0.06621146],\n",
       "       [0.07034968],\n",
       "       [0.0707635 ],\n",
       "       [0.07117732],\n",
       "       [0.08297124],\n",
       "       [0.07138423],\n",
       "       [0.06869439],\n",
       "       [0.06869439],\n",
       "       [0.06352162],\n",
       "       [0.06786675],\n",
       "       [0.07697083],\n",
       "       [0.08069522],\n",
       "       [0.08069522],\n",
       "       [0.09166149],\n",
       "       [0.09579971],\n",
       "       [0.08462653],\n",
       "       [0.09042003],\n",
       "       [0.08897165],\n",
       "       [0.08752328],\n",
       "       [0.08297124],\n",
       "       [0.08276433],\n",
       "       [0.09124767],\n",
       "       [0.08731637],\n",
       "       [0.08483344],\n",
       "       [0.09642044],\n",
       "       [0.11049038],\n",
       "       [0.10014484],\n",
       "       [0.09600662],\n",
       "       [0.08690255],\n",
       "       [0.07303952],\n",
       "       [0.06621146],\n",
       "       [0.06869439],\n",
       "       [0.06497   ],\n",
       "       [0.07283261],\n",
       "       [0.07386716],\n",
       "       [0.0744879 ],\n",
       "       [0.07117732],\n",
       "       [0.07241879],\n",
       "       [0.07241879],\n",
       "       [0.06703911],\n",
       "       [0.06848748],\n",
       "       [0.07738465],\n",
       "       [0.06455618],\n",
       "       [0.08566108],\n",
       "       [0.06269398],\n",
       "       [0.06083178],\n",
       "       [0.05814194],\n",
       "       [0.03414029],\n",
       "       [0.032485  ],\n",
       "       [0.04138216],\n",
       "       [0.04158908],\n",
       "       [0.03889923],\n",
       "       [0.0248293 ],\n",
       "       [0.02979516],\n",
       "       [0.02855369],\n",
       "       [0.06145251],\n",
       "       [0.05959032],\n",
       "       [0.05814194],\n",
       "       [0.05648665],\n",
       "       [0.05814194],\n",
       "       [0.05855576],\n",
       "       [0.0554521 ],\n",
       "       [0.05069315],\n",
       "       [0.02979516],\n",
       "       [0.01986344],\n",
       "       [0.02896752],\n",
       "       [0.0496586 ],\n",
       "       [0.06331471],\n",
       "       [0.06000414],\n",
       "       [0.05876267],\n",
       "       [0.06869439],\n",
       "       [0.07366025],\n",
       "       [0.06331471],\n",
       "       [0.07552245],\n",
       "       [0.10428305],\n",
       "       [0.10780054],\n",
       "       [0.10180012],\n",
       "       [0.10407614],\n",
       "       [0.10014484],\n",
       "       [0.09973102],\n",
       "       [0.10014484],\n",
       "       [0.0937306 ],\n",
       "       [0.09435133],\n",
       "       [0.09393751],\n",
       "       [0.08690255],\n",
       "       [0.08710946],\n",
       "       [0.09766191],\n",
       "       [0.11214567],\n",
       "       [0.12456031],\n",
       "       [0.12911235],\n",
       "       [0.13076764],\n",
       "       [0.11649079],\n",
       "       [0.11214567],\n",
       "       [0.11007656],\n",
       "       [0.12000828],\n",
       "       [0.11649079],\n",
       "       [0.12145665],\n",
       "       [0.13138837],\n",
       "       [0.13118146],\n",
       "       [0.13490586],\n",
       "       [0.14483758],\n",
       "       [0.14069936],\n",
       "       [0.13656114],\n",
       "       [0.13821643],\n",
       "       [0.13635423],\n",
       "       [0.12725016],\n",
       "       [0.11318022],\n",
       "       [0.12497414],\n",
       "       [0.13945789],\n",
       "       [0.13904407],\n",
       "       [0.13738879],\n",
       "       [0.13490586],\n",
       "       [0.14214773],\n",
       "       [0.13656114],\n",
       "       [0.12849162],\n",
       "       [0.12456031],\n",
       "       [0.09724809],\n",
       "       [0.1127664 ],\n",
       "       [0.14959652],\n",
       "       [0.14111318],\n",
       "       [0.15311401],\n",
       "       [0.1452514 ],\n",
       "       [0.14607904],\n",
       "       [0.16552866],\n",
       "       [0.17835713],\n",
       "       [0.18290917],\n",
       "       [0.19573764],\n",
       "       [0.19449617],\n",
       "       [0.18270226],\n",
       "       [0.18415063],\n",
       "       [0.18704738],\n",
       "       [0.17835713],\n",
       "       [0.18208152],\n",
       "       [0.18435754],\n",
       "       [0.17794331],\n",
       "       [0.16759777],\n",
       "       [0.19573764],\n",
       "       [0.18849576],\n",
       "       [0.19325471],\n",
       "       [0.19966894],\n",
       "       [0.1988413 ],\n",
       "       [0.20153114],\n",
       "       [0.2007035 ],\n",
       "       [0.19925512],\n",
       "       [0.19180633],\n",
       "       [0.20028968],\n",
       "       [0.21125595],\n",
       "       [0.21249741],\n",
       "       [0.20691082],\n",
       "       [0.22056694],\n",
       "       [0.21146286],\n",
       "       [0.20546245],\n",
       "       [0.19490999],\n",
       "       [0.17877095],\n",
       "       [0.17877095],\n",
       "       [0.17090834],\n",
       "       [0.16201117],\n",
       "       [0.17049452],\n",
       "       [0.174012  ],\n",
       "       [0.17856404],\n",
       "       [0.17732257],\n",
       "       [0.16511484],\n",
       "       [0.16470101],\n",
       "       [0.16987378],\n",
       "       [0.17380509],\n",
       "       [0.1721498 ],\n",
       "       [0.17173598],\n",
       "       [0.17794331],\n",
       "       [0.18001241],\n",
       "       [0.1874612 ],\n",
       "       [0.19325471],\n",
       "       [0.18663356],\n",
       "       [0.17421891],\n",
       "       [0.17711566],\n",
       "       [0.17318436],\n",
       "       [0.17380509],\n",
       "       [0.1663563 ],\n",
       "       [0.14938961],\n",
       "       [0.15187254],\n",
       "       [0.15352783],\n",
       "       [0.15145872],\n",
       "       [0.14649286],\n",
       "       [0.1491827 ],\n",
       "       [0.13242293],\n",
       "       [0.12849162],\n",
       "       [0.11793917],\n",
       "       [0.11628388],\n",
       "       [0.12290503],\n",
       "       [0.12725016],\n",
       "       [0.13490586],\n",
       "       [0.13345748],\n",
       "       [0.13242293],\n",
       "       [0.13056073],\n",
       "       [0.13242293],\n",
       "       [0.13138837],\n",
       "       [0.13987172],\n",
       "       [0.14938961],\n",
       "       [0.1568384 ],\n",
       "       [0.15145872],\n",
       "       [0.14318229],\n",
       "       [0.13449203],\n",
       "       [0.15394165],\n",
       "       [0.13242293],\n",
       "       [0.15352783],\n",
       "       [0.16656321],\n",
       "       [0.16656321],\n",
       "       [0.16987378]])"
      ]
     },
     "execution_count": 25,
     "metadata": {},
     "output_type": "execute_result"
    }
   ],
   "source": [
    "testing_data"
   ]
  },
  {
   "cell_type": "code",
   "execution_count": 26,
   "id": "4c089fd0",
   "metadata": {},
   "outputs": [],
   "source": [
    "def create_dataset(dataset, window_size=1):\n",
    "    X = []\n",
    "    y = []\n",
    "    for i in range(len(dataset) - window_size - 1):\n",
    "        window = dataset[i :(i + window_size),0]\n",
    "        target = dataset[i + window_size,0]\n",
    "        X.append(window)\n",
    "        y.append(target)\n",
    "    return np.array(X), np.array(y)"
   ]
  },
  {
   "cell_type": "code",
   "execution_count": 27,
   "id": "910895ea",
   "metadata": {},
   "outputs": [],
   "source": [
    "window_size=100\n",
    "X_train,y_train=create_dataset(training_data,window_size)\n",
    "X_test,y_test=create_dataset(testing_data,window_size)"
   ]
  },
  {
   "cell_type": "code",
   "execution_count": 28,
   "id": "9272d026",
   "metadata": {},
   "outputs": [
    {
     "name": "stdout",
     "output_type": "stream",
     "text": [
      "(1527, 100)\n"
     ]
    }
   ],
   "source": [
    "print(X_train.shape)"
   ]
  },
  {
   "cell_type": "code",
   "execution_count": 29,
   "id": "869d47f3",
   "metadata": {},
   "outputs": [
    {
     "name": "stdout",
     "output_type": "stream",
     "text": [
      "(1527,)\n"
     ]
    }
   ],
   "source": [
    "print(y_train.shape)"
   ]
  },
  {
   "cell_type": "code",
   "execution_count": 30,
   "id": "be45966d",
   "metadata": {},
   "outputs": [
    {
     "name": "stdout",
     "output_type": "stream",
     "text": [
      "(306, 100) (306,)\n"
     ]
    }
   ],
   "source": [
    "print(X_test.shape,y_test.shape)"
   ]
  },
  {
   "cell_type": "code",
   "execution_count": 31,
   "id": "e1d8a08d",
   "metadata": {},
   "outputs": [],
   "source": [
    "X_train=X_train.reshape(X_train.shape[0],X_train.shape[1],1)\n",
    "X_test=X_test.reshape(X_test.shape[0],X_test.shape[1],1)"
   ]
  },
  {
   "cell_type": "code",
   "execution_count": 32,
   "id": "f36e3194",
   "metadata": {},
   "outputs": [],
   "source": [
    "model=Sequential()\n",
    "model.add(LSTM(50,return_sequences=True,input_shape=(100,1)))\n",
    "model.add(LSTM(50,return_sequences=True))\n",
    "model.add(LSTM(50))\n",
    "model.add(Dense(1))\n",
    "model.compile(loss='mean_squared_error')"
   ]
  },
  {
   "cell_type": "code",
   "execution_count": 33,
   "id": "ed9ef1e2",
   "metadata": {},
   "outputs": [
    {
     "name": "stdout",
     "output_type": "stream",
     "text": [
      "Model: \"sequential\"\n",
      "_________________________________________________________________\n",
      " Layer (type)                Output Shape              Param #   \n",
      "=================================================================\n",
      " lstm (LSTM)                 (None, 100, 50)           10400     \n",
      "                                                                 \n",
      " lstm_1 (LSTM)               (None, 100, 50)           20200     \n",
      "                                                                 \n",
      " lstm_2 (LSTM)               (None, 50)                20200     \n",
      "                                                                 \n",
      " dense (Dense)               (None, 1)                 51        \n",
      "                                                                 \n",
      "=================================================================\n",
      "Total params: 50,851\n",
      "Trainable params: 50,851\n",
      "Non-trainable params: 0\n",
      "_________________________________________________________________\n"
     ]
    }
   ],
   "source": [
    "model.summary()"
   ]
  },
  {
   "cell_type": "code",
   "execution_count": 34,
   "id": "f6841efa",
   "metadata": {},
   "outputs": [
    {
     "name": "stdout",
     "output_type": "stream",
     "text": [
      "Epoch 1/40\n",
      "24/24 [==============================] - 17s 363ms/step - loss: 0.0136 - val_loss: 0.0014\n",
      "Epoch 2/40\n",
      "24/24 [==============================] - 6s 246ms/step - loss: 0.0043 - val_loss: 6.1033e-04\n",
      "Epoch 3/40\n",
      "24/24 [==============================] - 6s 247ms/step - loss: 0.0035 - val_loss: 0.0013\n",
      "Epoch 4/40\n",
      "24/24 [==============================] - 6s 250ms/step - loss: 0.0031 - val_loss: 9.3457e-04\n",
      "Epoch 5/40\n",
      "24/24 [==============================] - 6s 244ms/step - loss: 0.0030 - val_loss: 4.8986e-04\n",
      "Epoch 6/40\n",
      "24/24 [==============================] - 6s 245ms/step - loss: 0.0022 - val_loss: 4.7974e-04\n",
      "Epoch 7/40\n",
      "24/24 [==============================] - 6s 243ms/step - loss: 0.0023 - val_loss: 4.8152e-04\n",
      "Epoch 8/40\n",
      "24/24 [==============================] - 6s 247ms/step - loss: 0.0026 - val_loss: 4.7024e-04\n",
      "Epoch 9/40\n",
      "24/24 [==============================] - 6s 244ms/step - loss: 0.0020 - val_loss: 4.9478e-04\n",
      "Epoch 10/40\n",
      "24/24 [==============================] - 6s 249ms/step - loss: 0.0020 - val_loss: 4.4013e-04\n",
      "Epoch 11/40\n",
      "24/24 [==============================] - 6s 244ms/step - loss: 0.0023 - val_loss: 4.9056e-04\n",
      "Epoch 12/40\n",
      "24/24 [==============================] - 6s 248ms/step - loss: 0.0017 - val_loss: 5.0172e-04\n",
      "Epoch 13/40\n",
      "24/24 [==============================] - 6s 247ms/step - loss: 0.0018 - val_loss: 7.8805e-04\n",
      "Epoch 14/40\n",
      "24/24 [==============================] - 6s 247ms/step - loss: 0.0017 - val_loss: 6.3066e-04\n",
      "Epoch 15/40\n",
      "24/24 [==============================] - 6s 246ms/step - loss: 0.0017 - val_loss: 4.2765e-04\n",
      "Epoch 16/40\n",
      "24/24 [==============================] - 6s 243ms/step - loss: 0.0016 - val_loss: 6.5394e-04\n",
      "Epoch 17/40\n",
      "24/24 [==============================] - 6s 245ms/step - loss: 0.0015 - val_loss: 5.2716e-04\n",
      "Epoch 18/40\n",
      "24/24 [==============================] - 6s 244ms/step - loss: 0.0015 - val_loss: 4.7408e-04\n",
      "Epoch 19/40\n",
      "24/24 [==============================] - 6s 245ms/step - loss: 0.0014 - val_loss: 3.9094e-04\n",
      "Epoch 20/40\n",
      "24/24 [==============================] - 6s 250ms/step - loss: 0.0015 - val_loss: 4.2702e-04\n",
      "Epoch 21/40\n",
      "24/24 [==============================] - 6s 243ms/step - loss: 0.0013 - val_loss: 9.8201e-04\n",
      "Epoch 22/40\n",
      "24/24 [==============================] - 6s 245ms/step - loss: 0.0015 - val_loss: 5.9719e-04\n",
      "Epoch 23/40\n",
      "24/24 [==============================] - 6s 243ms/step - loss: 0.0012 - val_loss: 7.0020e-04\n",
      "Epoch 24/40\n",
      "24/24 [==============================] - 6s 245ms/step - loss: 0.0012 - val_loss: 4.4237e-04\n",
      "Epoch 25/40\n",
      "24/24 [==============================] - 6s 248ms/step - loss: 0.0012 - val_loss: 3.8695e-04\n",
      "Epoch 26/40\n",
      "24/24 [==============================] - 6s 251ms/step - loss: 0.0014 - val_loss: 4.9741e-04\n",
      "Epoch 27/40\n",
      "24/24 [==============================] - 6s 248ms/step - loss: 0.0011 - val_loss: 3.7544e-04\n",
      "Epoch 28/40\n",
      "24/24 [==============================] - 6s 247ms/step - loss: 0.0010 - val_loss: 6.4902e-04\n",
      "Epoch 29/40\n",
      "24/24 [==============================] - 6s 252ms/step - loss: 0.0013 - val_loss: 4.9913e-04\n",
      "Epoch 30/40\n",
      "24/24 [==============================] - 6s 251ms/step - loss: 0.0010 - val_loss: 6.6041e-04\n",
      "Epoch 31/40\n",
      "24/24 [==============================] - 6s 256ms/step - loss: 0.0011 - val_loss: 3.4594e-04\n",
      "Epoch 32/40\n",
      "24/24 [==============================] - 6s 255ms/step - loss: 0.0012 - val_loss: 3.3997e-04\n",
      "Epoch 33/40\n",
      "24/24 [==============================] - 6s 254ms/step - loss: 0.0011 - val_loss: 5.2453e-04\n",
      "Epoch 34/40\n",
      "24/24 [==============================] - 6s 249ms/step - loss: 0.0010 - val_loss: 4.4746e-04\n",
      "Epoch 35/40\n",
      "24/24 [==============================] - 6s 252ms/step - loss: 0.0010 - val_loss: 4.8464e-04\n",
      "Epoch 36/40\n",
      "24/24 [==============================] - 6s 253ms/step - loss: 0.0012 - val_loss: 3.9303e-04\n",
      "Epoch 37/40\n",
      "24/24 [==============================] - 6s 253ms/step - loss: 0.0010 - val_loss: 4.0171e-04\n",
      "Epoch 38/40\n",
      "24/24 [==============================] - 6s 255ms/step - loss: 8.9091e-04 - val_loss: 5.7538e-04\n",
      "Epoch 39/40\n",
      "24/24 [==============================] - 6s 252ms/step - loss: 0.0011 - val_loss: 4.5059e-04\n",
      "Epoch 40/40\n",
      "24/24 [==============================] - 6s 253ms/step - loss: 9.4580e-04 - val_loss: 5.6002e-04\n"
     ]
    },
    {
     "data": {
      "text/plain": [
       "<keras.callbacks.History at 0x2782b0955e0>"
      ]
     },
     "execution_count": 34,
     "metadata": {},
     "output_type": "execute_result"
    }
   ],
   "source": [
    "model.fit(X_train,y_train,validation_data=(X_test,y_test),epochs=40,batch_size=64,verbose=1)"
   ]
  },
  {
   "cell_type": "code",
   "execution_count": 35,
   "id": "07e8ad8c",
   "metadata": {},
   "outputs": [
    {
     "name": "stdout",
     "output_type": "stream",
     "text": [
      "48/48 [==============================] - 4s 53ms/step\n",
      "10/10 [==============================] - 1s 57ms/step\n"
     ]
    }
   ],
   "source": [
    "train_predict=model.predict(X_train)\n",
    "test_predict=model.predict(X_test)\n",
    "train_predict=scaler.inverse_transform(train_predict)\n",
    "test_predict=scaler.inverse_transform(test_predict)"
   ]
  },
  {
   "cell_type": "code",
   "execution_count": 36,
   "id": "29322b4b",
   "metadata": {},
   "outputs": [
    {
     "data": {
      "text/plain": [
       "161.2071337090657"
      ]
     },
     "execution_count": 36,
     "metadata": {},
     "output_type": "execute_result"
    }
   ],
   "source": [
    "math.sqrt(mean_squared_error(y_train,train_predict))"
   ]
  },
  {
   "cell_type": "code",
   "execution_count": 37,
   "id": "592b64d2",
   "metadata": {},
   "outputs": [
    {
     "data": {
      "text/plain": [
       "108.59970884307263"
      ]
     },
     "execution_count": 37,
     "metadata": {},
     "output_type": "execute_result"
    }
   ],
   "source": [
    "math.sqrt(mean_squared_error(y_test,test_predict))"
   ]
  },
  {
   "cell_type": "code",
   "execution_count": 38,
   "id": "d2c0c88e",
   "metadata": {},
   "outputs": [
    {
     "data": {
      "image/png": "[encoded data removed]",
      "text/plain": [
       "<Figure size 1080x504 with 1 Axes>"
      ]
     },
     "metadata": {
      "needs_background": "light"
     },
     "output_type": "display_data"
    }
   ],
   "source": [
    "look_back=100\n",
    "train_Predict_Plot=np.empty_like(training)\n",
    "train_Predict_Plot[:, :]=np.nan\n",
    "train_Predict_Plot[look_back:len(train_predict)+look_back, :]=train_predict\n",
    "test_Predict_Plot=np.empty_like(training)\n",
    "test_Predict_Plot[:, :]=np.nan\n",
    "test_Predict_Plot[len(train_predict)+(look_back*2)+1:len(sample)-1, :]=test_predict\n",
    "plt.plot(scaler.inverse_transform(training),color='b')\n",
    "plt.plot(train_Predict_Plot,color='r')\n",
    "plt.plot(test_Predict_Plot,color='black')\n",
    "plt.show()"
   ]
  }
 ],
 "metadata": {
  "kernelspec": {
   "display_name": "Python 3 (ipykernel)",
   "language": "python",
   "name": "python3"
  },
  "language_info": {
   "codemirror_mode": {
    "name": "ipython",
    "version": 3
   },
   "file_extension": ".py",
   "mimetype": "text/x-python",
   "name": "python",
   "nbconvert_exporter": "python",
   "pygments_lexer": "ipython3",
   "version": "3.9.12"
  }
 },
 "nbformat": 4,
 "nbformat_minor": 5
}
